{
 "cells": [
  {
   "cell_type": "markdown",
   "metadata": {},
   "source": [
    "# Extracting NBA Data\n",
    "I have a few project ideas I want to try out for research purposes, and in order to do them, I need data. I'm going to be extracting data from a number of different online sources. The data I'm interested in are the following:\n",
    "- Box Score Data\n",
    "- Play-by-Play Data\n",
    "- General Game Data\n",
    "  - Game Date\n",
    "  - Regular Season/Playoffs\n",
    "  - Home and Away Team\n",
    "  - Final Score\n",
    "  - Stadium Attendance\n",
    "  - National Broadcast Data\n",
    "\n",
    "The main goal here is to get this data while not putting any strain on the data host's servers."
   ]
  },
  {
   "cell_type": "markdown",
   "metadata": {},
   "source": [
    "## Data Sources\n",
    "This data is available in a lot of different places, here a few:\n",
    "- Basketball Reference (Box Score/Play-By-Play Data)\n",
    "- NBA.com (Box Score/Play-By-Play Data)"
   ]
  },
  {
   "cell_type": "markdown",
   "metadata": {},
   "source": [
    "## Extracting Data from NBA.com\n",
    "NBA.com has a few different places from which you can extract the above data. I'm going to extract data from a Content Delivery Network (CDN) used by NBA.com, which hosts play-by-play and box-score data, as well as retrieve data from a JSON object that loads dynamically when navigating to specific pages on NBA.com. \n",
    "\n",
    "### NBA.com's Content Delivery Network (CDN)\n",
    "As of March 5, 2024, you can still pull box-score and play-by-play directly from NBA.com's CDN if you know the specific game's \"game ID\". The format you want to use is the following:"
   ]
  },
  {
   "cell_type": "code",
   "execution_count": null,
   "metadata": {},
   "outputs": [
    {
     "name": "stdout",
     "output_type": "stream",
     "text": [
      "https://cdn.nba.com/static/json/liveData/playbyplay/playbyplay_0022000181.json\n",
      "https://cdn.nba.com/static/json/liveData/boxscore/boxscore_0022000181.json\n"
     ]
    }
   ],
   "source": [
    "game_id = '0022000181'\n",
    "\n",
    "# For Play-By-Play Data:\n",
    "format_play_by_play = 'https://cdn.nba.com/static/json/liveData/playbyplay/playbyplay_{}.json'\n",
    "\n",
    "# For Box-Score Data:\n",
    "format_box_score = 'https://cdn.nba.com/static/json/liveData/boxscore/boxscore_{}.json'\n",
    "\n",
    "print(format_play_by_play.format(game_id))\n",
    "print(format_box_score.format(game_id))"
   ]
  },
  {
   "cell_type": "markdown",
   "metadata": {},
   "source": [
    "If you navigate to either of these links, it'll take you to a raw JSON file, which contains all the box-score and play-by-play data for the NBA game with the game id '0022000181'.\n",
    "\n",
    "Just from navigating to the CDN for different games from different years, it appears that the CDN links don't work for games prior to the 2019-2020 season, so for games that precede that date, I'll instead have to navigate directly to NBA.com's page for those specific games. "
   ]
  },
  {
   "cell_type": "markdown",
   "metadata": {},
   "source": [
    "### NBA.com's Dynamic JSON Object\n",
    "When you navigate to any NBA page that provides information on a past game, you're greeted with the ability to navigate to the 'Summary,' 'Box Score', 'Game Charts', and 'Play-By-Play' tabs. Each of these provide information about the game in an easily digestable format. \n",
    "\n",
    "You could navigate to each of these pages one by one and extract information directly from the raw html, however, all the data that makes up the content in the divs and tables on this page are populated via a dynamic JSON object that you can find embedded in the first <b>script</b> tag at the top of the html document tree. By pulling down this JSON object directly, you can retrieve all the relevant game information in a structured format without needing to parse through all the raw html.\n",
    "\n",
    "The highlighted script tag is collapsed, but contains the JSON object we want to extract:"
   ]
  },
  {
   "cell_type": "markdown",
   "metadata": {},
   "source": [
    "![alt text](../imgs/json_in_script.png)"
   ]
  },
  {
   "cell_type": "markdown",
   "metadata": {},
   "source": [
    "The script tag has the id \"__NEXT_DATA__\", so we'll specify that when we extract the html for the page.\n",
    "\n",
    "For this, we'll use the <b>requests</b> and <b>BeautifulSoup</b> Python packages to extract the html page and use the <b>json</b> package to convert the resulting string to a JSON object which we'll save to further analyze. \n",
    "\n",
    "The code below is an example of what that looks like: "
   ]
  },
  {
   "cell_type": "code",
   "execution_count": 42,
   "metadata": {},
   "outputs": [],
   "source": [
    "import requests\n",
    "from bs4 import BeautifulSoup\n",
    "import json\n",
    "\n",
    "# URL of the webpage you want to scrape\n",
    "url = 'https://www.nba.com/game/lac-vs-mil-0029500281' \n",
    "\n",
    "# Fetch the content of the webpage\n",
    "response = requests.get(url)\n",
    "\n",
    "# Use BeautifulSoup to parse the HTML content\n",
    "soup = BeautifulSoup(response.text, 'html.parser')\n",
    "\n",
    "# Find the specific script tag with the ID we want\n",
    "script_tag = soup.find('script', id='__NEXT_DATA__')\n",
    "\n",
    "# Load the script tag into a json object\n",
    "json_object = json.loads(script_tag.string)"
   ]
  },
  {
   "cell_type": "markdown",
   "metadata": {},
   "source": [
    "There is a lot of information for each game contained in these JSON files, including the play-by-play data, the box-score data, and general game data. In the next post, I'll go through how to transform this data from JSON to a pandas dataframe that we can then analyze as a flat file. "
   ]
  }
 ],
 "metadata": {
  "kernelspec": {
   "display_name": "env",
   "language": "python",
   "name": "python3"
  },
  "language_info": {
   "codemirror_mode": {
    "name": "ipython",
    "version": 3
   },
   "file_extension": ".py",
   "mimetype": "text/x-python",
   "name": "python",
   "nbconvert_exporter": "python",
   "pygments_lexer": "ipython3",
   "version": "3.9.6"
  }
 },
 "nbformat": 4,
 "nbformat_minor": 2
}
